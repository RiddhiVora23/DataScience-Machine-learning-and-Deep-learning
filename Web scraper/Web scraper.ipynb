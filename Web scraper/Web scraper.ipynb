{
 "cells": [
  {
   "cell_type": "markdown",
   "id": "d33d1834",
   "metadata": {},
   "source": [
    "# WEB SCRAPING NOTEBOOK USING BEAUTIFUL SOUP\n"
   ]
  },
  {
   "cell_type": "markdown",
   "id": "74072ed1",
   "metadata": {},
   "source": [
    "# Car Dealership Web Scraping\n",
    "Auther- Riddhi Dinesh Vora\n",
    "\n",
    "NUID- 002761911\n",
    "\n",
    "Email- vora.ri@northeastern.edu\n"
   ]
  },
  {
   "cell_type": "markdown",
   "id": "cefcd4fd",
   "metadata": {},
   "source": [
    "### Imports"
   ]
  },
  {
   "cell_type": "code",
   "execution_count": 6,
   "id": "091a43c0",
   "metadata": {},
   "outputs": [],
   "source": [
    " # Import the BeautifulSoup library for web scraping.\n",
    "from bs4 import BeautifulSoup\n",
    "\n",
    "# Import the requests library for making HTTP requests to web pages.\n",
    "import requests\n",
    "\n",
    "# Import the pandas library for data manipulation and analysis.\n",
    "import pandas as pd\n",
    "\n",
    "# The code for web scraping and data analysis would be placed here."
   ]
  },
  {
   "cell_type": "markdown",
   "id": "f43045be",
   "metadata": {},
   "source": [
    "### HTTP Request\n"
   ]
  },
  {
   "cell_type": "code",
   "execution_count": 8,
   "id": "367b2812",
   "metadata": {},
   "outputs": [],
   "source": [
    "# Use the 'requests.get()' function to send an HTTP GET request to the specified 'website' URL.\n",
    "# This function fetches the content of the web page and stores it in the 'response' object.\n",
    "response = requests.get(website)\n"
   ]
  },
  {
   "cell_type": "markdown",
   "id": "448ce786",
   "metadata": {},
   "source": [
    "### Get Request"
   ]
  },
  {
   "cell_type": "code",
   "execution_count": 7,
   "id": "b2665951",
   "metadata": {},
   "outputs": [],
   "source": [
    "# Define the website URL where the search results are located.\n",
    "website = 'https://www.cars.com/shopping/results/?stock_type=cpo&makes%5B%5D=mercedes_benz&models%5B%5D=&list_price_max=&maximum_distance=20&zip='\n"
   ]
  },
  {
   "cell_type": "markdown",
   "id": "d0cdece5",
   "metadata": {},
   "source": [
    "### Status Code "
   ]
  },
  {
   "cell_type": "code",
   "execution_count": 11,
   "id": "06975809",
   "metadata": {},
   "outputs": [
    {
     "data": {
      "text/plain": [
       "200"
      ]
     },
     "execution_count": 11,
     "metadata": {},
     "output_type": "execute_result"
    }
   ],
   "source": [
    "response.status_code"
   ]
  },
  {
   "cell_type": "markdown",
   "id": "a89f8049",
   "metadata": {},
   "source": [
    "### Soup Object"
   ]
  },
  {
   "cell_type": "code",
   "execution_count": 12,
   "id": "dc6fdb7f",
   "metadata": {},
   "outputs": [],
   "source": [
    "# Parse the HTML content of the response using BeautifulSoup.\n",
    "soup = BeautifulSoup(response.content, 'html.parser')\n"
   ]
  },
  {
   "cell_type": "code",
   "execution_count": 13,
   "id": "31d05324",
   "metadata": {},
   "outputs": [],
   "source": [
    "# Find and collect all HTML elements with the class 'vehicle-card' using BeautifulSoup.\n",
    "results = soup.find_all('div', {'class': 'vehicle-card'})"
   ]
  },
  {
   "cell_type": "code",
   "execution_count": 14,
   "id": "5b708efc",
   "metadata": {},
   "outputs": [
    {
     "data": {
      "text/plain": [
       "21"
      ]
     },
     "execution_count": 14,
     "metadata": {},
     "output_type": "execute_result"
    }
   ],
   "source": [
    "# Calculate the number of elements in the 'results' list, representing the count of vehicle cards found on the web page.\n",
    "len(results)"
   ]
  },
  {
   "cell_type": "code",
   "execution_count": 15,
   "id": "8c389796",
   "metadata": {},
   "outputs": [],
   "source": [
    "del results[0]"
   ]
  },
  {
   "cell_type": "markdown",
   "id": "a51f0e00",
   "metadata": {},
   "source": [
    "### Target necessary data"
   ]
  },
  {
   "cell_type": "markdown",
   "id": "b9aa3365",
   "metadata": {},
   "source": [
    "#### Name\n",
    "#### Mileage\n",
    "#### Dealer Name\n",
    "#### Rating\n",
    "##### Rating Count\n",
    "#### Price"
   ]
  },
  {
   "cell_type": "markdown",
   "id": "6c2e5f57",
   "metadata": {},
   "source": [
    "## Name"
   ]
  },
  {
   "cell_type": "code",
   "execution_count": 18,
   "id": "eca1f87d",
   "metadata": {},
   "outputs": [
    {
     "data": {
      "text/plain": [
       "'2020 Mercedes-Benz AMG GT 63 4-Door'"
      ]
     },
     "execution_count": 18,
     "metadata": {},
     "output_type": "execute_result"
    }
   ],
   "source": [
    "# Extract the text content of the first 'h2' element found within the first'results' list.\n",
    "results[0].find('h2').get_text()\n"
   ]
  },
  {
   "cell_type": "markdown",
   "id": "3c8ca1bc",
   "metadata": {},
   "source": [
    "## Mileage"
   ]
  },
  {
   "cell_type": "code",
   "execution_count": 19,
   "id": "adfbf2f1",
   "metadata": {},
   "outputs": [
    {
     "data": {
      "text/plain": [
       "'20,157 mi.'"
      ]
     },
     "execution_count": 19,
     "metadata": {},
     "output_type": "execute_result"
    }
   ],
   "source": [
    "# Retrieve the text content of the 'mileage' element within the first 'results' list.\n",
    "results[0].find('div', {'class':'mileage'}).get_text()"
   ]
  },
  {
   "cell_type": "markdown",
   "id": "b4c1c71c",
   "metadata": {},
   "source": [
    "## Dealer Name"
   ]
  },
  {
   "cell_type": "code",
   "execution_count": 20,
   "id": "be8d788d",
   "metadata": {},
   "outputs": [
    {
     "data": {
      "text/plain": [
       "'Mercedes-Benz of Atlantic City'"
      ]
     },
     "execution_count": 20,
     "metadata": {},
     "output_type": "execute_result"
    }
   ],
   "source": [
    "# Get and clean the text content of the 'dealer-name' element within the first'results'.\n",
    "results[0].find('div', {'class':'dealer-name'}).get_text().strip()\n"
   ]
  },
  {
   "cell_type": "markdown",
   "id": "7f9cab50",
   "metadata": {},
   "source": [
    "## Rating"
   ]
  },
  {
   "cell_type": "code",
   "execution_count": 22,
   "id": "a32b7271",
   "metadata": {},
   "outputs": [
    {
     "data": {
      "text/plain": [
       "'4.6'"
      ]
     },
     "execution_count": 22,
     "metadata": {},
     "output_type": "execute_result"
    }
   ],
   "source": [
    "# Extract the text content of the 'sds-rating__count' span element within the first'results'.\n",
    "results[0].find('span', {'class':'sds-rating__count'}).get_text()\n"
   ]
  },
  {
   "cell_type": "markdown",
   "id": "a0f63803",
   "metadata": {},
   "source": [
    "## Review Count"
   ]
  },
  {
   "cell_type": "code",
   "execution_count": 23,
   "id": "8947aca4",
   "metadata": {},
   "outputs": [
    {
     "data": {
      "text/plain": [
       "'(1,102 reviews)'"
      ]
     },
     "execution_count": 23,
     "metadata": {},
     "output_type": "execute_result"
    }
   ],
   "source": [
    "# Retrieve the text content of the 'sds-rating__link' span element within the first'results'.\n",
    "results[0].find('span', {'class':'sds-rating__link'}).get_text()\n",
    "\n"
   ]
  },
  {
   "cell_type": "markdown",
   "id": "044b6e25",
   "metadata": {},
   "source": [
    "## Price"
   ]
  },
  {
   "cell_type": "code",
   "execution_count": 24,
   "id": "510755b2",
   "metadata": {},
   "outputs": [
    {
     "data": {
      "text/plain": [
       "'$109,853'"
      ]
     },
     "execution_count": 24,
     "metadata": {},
     "output_type": "execute_result"
    }
   ],
   "source": [
    "# Get the text content of the 'primary-price' span element within the first'results'.\n",
    "results[0].find('span', {'class':'primary-price'}).get_text()\n",
    "\n"
   ]
  },
  {
   "cell_type": "markdown",
   "id": "301f3c7b",
   "metadata": {},
   "source": [
    "## Put everything together inside a For-Loop"
   ]
  },
  {
   "cell_type": "code",
   "execution_count": 25,
   "id": "7e3b67da",
   "metadata": {},
   "outputs": [],
   "source": [
    "name = []\n",
    "mileage = []\n",
    "dealer_name = []\n",
    "rating = []\n",
    "review_count = []\n",
    "price = []\n",
    "\n",
    "for result in results:\n",
    "    \n",
    "    # name\n",
    "    try:\n",
    "        name.append(result.find('h2').get_text()) \n",
    "    except:\n",
    "        name.append('n/a')\n",
    "    \n",
    "    # mileage\n",
    "    try:\n",
    "        mileage.append(result.find('div', {'class':'mileage'}).get_text())\n",
    "    except:\n",
    "        mileage.append('n/a')\n",
    "    \n",
    "    # dealer_name\n",
    "    try:\n",
    "        dealer_name.append(result.find('div', {'class':'dealer-name'}).get_text().strip())\n",
    "    except:\n",
    "        dealer_name.append('n/a')\n",
    "        \n",
    "    # rating\n",
    "    try:\n",
    "        rating.append(result.find('span', {'class':'sds-rating__count'}).get_text())\n",
    "    except:\n",
    "        rating.append('n/a')\n",
    "    \n",
    "    # review_count\n",
    "    try:\n",
    "        review_count.append(result.find('span', {'class':'sds-rating__link'}).get_text())\n",
    "    except:\n",
    "        review_count.append('n/a')\n",
    "        \n",
    "        \n",
    "         #price \n",
    "    try:\n",
    "        price.append(result.find('span', {'class':'primary-price'}).get_text())\n",
    "    except:\n",
    "        price.append('n/a')"
   ]
  },
  {
   "cell_type": "markdown",
   "id": "127cf7fd",
   "metadata": {},
   "source": [
    "## Create Pandas Dataframe"
   ]
  },
  {
   "cell_type": "code",
   "execution_count": 26,
   "id": "70a9b992",
   "metadata": {},
   "outputs": [],
   "source": [
    "# dictionary\n",
    "car_dealer = pd.DataFrame({'Name': name, 'Mileage':mileage, 'Dealer Name':dealer_name,\n",
    "                                'Rating': rating, 'Review Count': review_count, 'Price': price})"
   ]
  },
  {
   "cell_type": "code",
   "execution_count": 27,
   "id": "af433f83",
   "metadata": {},
   "outputs": [
    {
     "data": {
      "text/html": [
       "<div>\n",
       "<style scoped>\n",
       "    .dataframe tbody tr th:only-of-type {\n",
       "        vertical-align: middle;\n",
       "    }\n",
       "\n",
       "    .dataframe tbody tr th {\n",
       "        vertical-align: top;\n",
       "    }\n",
       "\n",
       "    .dataframe thead th {\n",
       "        text-align: right;\n",
       "    }\n",
       "</style>\n",
       "<table border=\"1\" class=\"dataframe\">\n",
       "  <thead>\n",
       "    <tr style=\"text-align: right;\">\n",
       "      <th></th>\n",
       "      <th>Name</th>\n",
       "      <th>Mileage</th>\n",
       "      <th>Dealer Name</th>\n",
       "      <th>Rating</th>\n",
       "      <th>Review Count</th>\n",
       "      <th>Price</th>\n",
       "    </tr>\n",
       "  </thead>\n",
       "  <tbody>\n",
       "    <tr>\n",
       "      <th>0</th>\n",
       "      <td>2020 Mercedes-Benz AMG GT 63 4-Door</td>\n",
       "      <td>20,157 mi.</td>\n",
       "      <td>Mercedes-Benz of Atlantic City</td>\n",
       "      <td>4.6</td>\n",
       "      <td>(1,102 reviews)</td>\n",
       "      <td>$109,853</td>\n",
       "    </tr>\n",
       "    <tr>\n",
       "      <th>1</th>\n",
       "      <td>2023 Mercedes-Benz E-Class E 350 4MATIC</td>\n",
       "      <td>2,971 mi.</td>\n",
       "      <td>Mercedes-Benz of Owings Mills</td>\n",
       "      <td>4.9</td>\n",
       "      <td>(2,315 reviews)</td>\n",
       "      <td>$59,990</td>\n",
       "    </tr>\n",
       "    <tr>\n",
       "      <th>2</th>\n",
       "      <td>2022 Mercedes-Benz E-Class E 350</td>\n",
       "      <td>6,473 mi.</td>\n",
       "      <td>Mercedes-Benz of Marin</td>\n",
       "      <td>n/a</td>\n",
       "      <td>(0 reviews)</td>\n",
       "      <td>$48,995</td>\n",
       "    </tr>\n",
       "    <tr>\n",
       "      <th>3</th>\n",
       "      <td>2022 Mercedes-Benz AMG GLE 53 Base</td>\n",
       "      <td>15,015 mi.</td>\n",
       "      <td>Mercedes-Benz of Atlanta Northeast</td>\n",
       "      <td>4.7</td>\n",
       "      <td>(2,091 reviews)</td>\n",
       "      <td>$88,884</td>\n",
       "    </tr>\n",
       "    <tr>\n",
       "      <th>4</th>\n",
       "      <td>2023 Mercedes-Benz GLE 350 Base 4MATIC</td>\n",
       "      <td>3,996 mi.</td>\n",
       "      <td>Mercedes-Benz of State College</td>\n",
       "      <td>n/a</td>\n",
       "      <td>(2 reviews)</td>\n",
       "      <td>$61,991</td>\n",
       "    </tr>\n",
       "    <tr>\n",
       "      <th>5</th>\n",
       "      <td>2020 Mercedes-Benz A-Class A 220 4MATIC</td>\n",
       "      <td>15,603 mi.</td>\n",
       "      <td>Silver Star Motors</td>\n",
       "      <td>4.5</td>\n",
       "      <td>(826 reviews)</td>\n",
       "      <td>$28,899</td>\n",
       "    </tr>\n",
       "    <tr>\n",
       "      <th>6</th>\n",
       "      <td>2020 Mercedes-Benz C-Class C 300 4MATIC</td>\n",
       "      <td>48,570 mi.</td>\n",
       "      <td>Mercedes-Benz of Elmbrook</td>\n",
       "      <td>4.5</td>\n",
       "      <td>(199 reviews)</td>\n",
       "      <td>$29,995</td>\n",
       "    </tr>\n",
       "    <tr>\n",
       "      <th>7</th>\n",
       "      <td>2020 Mercedes-Benz E-Class E 350 4MATIC</td>\n",
       "      <td>17,914 mi.</td>\n",
       "      <td>Silver Star Motors</td>\n",
       "      <td>4.5</td>\n",
       "      <td>(826 reviews)</td>\n",
       "      <td>$38,148</td>\n",
       "    </tr>\n",
       "    <tr>\n",
       "      <th>8</th>\n",
       "      <td>2019 Mercedes-Benz E-Class E 300 4MATIC</td>\n",
       "      <td>35,561 mi.</td>\n",
       "      <td>Feldmann Imports</td>\n",
       "      <td>4.4</td>\n",
       "      <td>(645 reviews)</td>\n",
       "      <td>$32,948</td>\n",
       "    </tr>\n",
       "    <tr>\n",
       "      <th>9</th>\n",
       "      <td>2020 Mercedes-Benz AMG A 35 Base</td>\n",
       "      <td>16,257 mi.</td>\n",
       "      <td>Mercedes-Benz Manhattan Inc.</td>\n",
       "      <td>3.4</td>\n",
       "      <td>(472 reviews)</td>\n",
       "      <td>$42,900</td>\n",
       "    </tr>\n",
       "    <tr>\n",
       "      <th>10</th>\n",
       "      <td>2020 Mercedes-Benz A-Class A 220 4MATIC</td>\n",
       "      <td>28,246 mi.</td>\n",
       "      <td>Mercedes-Benz Of Tacoma</td>\n",
       "      <td>4.1</td>\n",
       "      <td>(3,424 reviews)</td>\n",
       "      <td>$29,999</td>\n",
       "    </tr>\n",
       "    <tr>\n",
       "      <th>11</th>\n",
       "      <td>2019 Mercedes-Benz AMG S 63 Base 4MATIC</td>\n",
       "      <td>18,964 mi.</td>\n",
       "      <td>Benzel-Busch Motor Car</td>\n",
       "      <td>4.5</td>\n",
       "      <td>(5,402 reviews)</td>\n",
       "      <td>$96,796</td>\n",
       "    </tr>\n",
       "    <tr>\n",
       "      <th>12</th>\n",
       "      <td>2020 Mercedes-Benz S-Class S 450</td>\n",
       "      <td>27,438 mi.</td>\n",
       "      <td>Mercedes-Benz of Calabasas</td>\n",
       "      <td>4.8</td>\n",
       "      <td>(982 reviews)</td>\n",
       "      <td>$54,996</td>\n",
       "    </tr>\n",
       "    <tr>\n",
       "      <th>13</th>\n",
       "      <td>2023 Mercedes-Benz Maybach GLS 600 4MATIC</td>\n",
       "      <td>1,343 mi.</td>\n",
       "      <td>Mercedes-Benz of South Charlotte</td>\n",
       "      <td>4.8</td>\n",
       "      <td>(1,367 reviews)</td>\n",
       "      <td>$187,495</td>\n",
       "    </tr>\n",
       "    <tr>\n",
       "      <th>14</th>\n",
       "      <td>2020 Mercedes-Benz C-Class C 300 4MATIC</td>\n",
       "      <td>29,897 mi.</td>\n",
       "      <td>Mercedes-Benz of Hoffman Estates</td>\n",
       "      <td>4.6</td>\n",
       "      <td>(1,200 reviews)</td>\n",
       "      <td>$32,499</td>\n",
       "    </tr>\n",
       "    <tr>\n",
       "      <th>15</th>\n",
       "      <td>2023 Mercedes-Benz AMG GLE 53 Base</td>\n",
       "      <td>7,160 mi.</td>\n",
       "      <td>Mercedes-Benz of Plano</td>\n",
       "      <td>4.7</td>\n",
       "      <td>(1,833 reviews)</td>\n",
       "      <td>$80,922</td>\n",
       "    </tr>\n",
       "    <tr>\n",
       "      <th>16</th>\n",
       "      <td>2020 Mercedes-Benz GLA 250 Base 4MATIC</td>\n",
       "      <td>16,776 mi.</td>\n",
       "      <td>Smith Motor Sales of Haverhill, Inc.</td>\n",
       "      <td>4.9</td>\n",
       "      <td>(1,860 reviews)</td>\n",
       "      <td>$33,955</td>\n",
       "    </tr>\n",
       "    <tr>\n",
       "      <th>17</th>\n",
       "      <td>2020 Mercedes-Benz E-Class E 350 4MATIC</td>\n",
       "      <td>31,640 mi.</td>\n",
       "      <td>Mercedes-Benz of Owings Mills</td>\n",
       "      <td>4.9</td>\n",
       "      <td>(2,315 reviews)</td>\n",
       "      <td>$39,990</td>\n",
       "    </tr>\n",
       "    <tr>\n",
       "      <th>18</th>\n",
       "      <td>2021 Mercedes-Benz GLE 450 4MATIC</td>\n",
       "      <td>15,929 mi.</td>\n",
       "      <td>Smith Motor Sales of Haverhill, Inc.</td>\n",
       "      <td>4.9</td>\n",
       "      <td>(1,860 reviews)</td>\n",
       "      <td>$66,300</td>\n",
       "    </tr>\n",
       "    <tr>\n",
       "      <th>19</th>\n",
       "      <td>2020 Mercedes-Benz E-Class E 350 4MATIC</td>\n",
       "      <td>31,560 mi.</td>\n",
       "      <td>Mercedes-Benz of North Olmsted</td>\n",
       "      <td>4.7</td>\n",
       "      <td>(1,534 reviews)</td>\n",
       "      <td>$38,987</td>\n",
       "    </tr>\n",
       "  </tbody>\n",
       "</table>\n",
       "</div>"
      ],
      "text/plain": [
       "                                         Name     Mileage  \\\n",
       "0         2020 Mercedes-Benz AMG GT 63 4-Door  20,157 mi.   \n",
       "1     2023 Mercedes-Benz E-Class E 350 4MATIC   2,971 mi.   \n",
       "2            2022 Mercedes-Benz E-Class E 350   6,473 mi.   \n",
       "3          2022 Mercedes-Benz AMG GLE 53 Base  15,015 mi.   \n",
       "4      2023 Mercedes-Benz GLE 350 Base 4MATIC   3,996 mi.   \n",
       "5     2020 Mercedes-Benz A-Class A 220 4MATIC  15,603 mi.   \n",
       "6     2020 Mercedes-Benz C-Class C 300 4MATIC  48,570 mi.   \n",
       "7     2020 Mercedes-Benz E-Class E 350 4MATIC  17,914 mi.   \n",
       "8     2019 Mercedes-Benz E-Class E 300 4MATIC  35,561 mi.   \n",
       "9            2020 Mercedes-Benz AMG A 35 Base  16,257 mi.   \n",
       "10    2020 Mercedes-Benz A-Class A 220 4MATIC  28,246 mi.   \n",
       "11    2019 Mercedes-Benz AMG S 63 Base 4MATIC  18,964 mi.   \n",
       "12           2020 Mercedes-Benz S-Class S 450  27,438 mi.   \n",
       "13  2023 Mercedes-Benz Maybach GLS 600 4MATIC   1,343 mi.   \n",
       "14    2020 Mercedes-Benz C-Class C 300 4MATIC  29,897 mi.   \n",
       "15         2023 Mercedes-Benz AMG GLE 53 Base   7,160 mi.   \n",
       "16     2020 Mercedes-Benz GLA 250 Base 4MATIC  16,776 mi.   \n",
       "17    2020 Mercedes-Benz E-Class E 350 4MATIC  31,640 mi.   \n",
       "18          2021 Mercedes-Benz GLE 450 4MATIC  15,929 mi.   \n",
       "19    2020 Mercedes-Benz E-Class E 350 4MATIC  31,560 mi.   \n",
       "\n",
       "                             Dealer Name Rating     Review Count     Price  \n",
       "0         Mercedes-Benz of Atlantic City    4.6  (1,102 reviews)  $109,853  \n",
       "1          Mercedes-Benz of Owings Mills    4.9  (2,315 reviews)   $59,990  \n",
       "2                 Mercedes-Benz of Marin    n/a      (0 reviews)   $48,995  \n",
       "3     Mercedes-Benz of Atlanta Northeast    4.7  (2,091 reviews)   $88,884  \n",
       "4         Mercedes-Benz of State College    n/a      (2 reviews)   $61,991  \n",
       "5                     Silver Star Motors    4.5    (826 reviews)   $28,899  \n",
       "6              Mercedes-Benz of Elmbrook    4.5    (199 reviews)   $29,995  \n",
       "7                     Silver Star Motors    4.5    (826 reviews)   $38,148  \n",
       "8                       Feldmann Imports    4.4    (645 reviews)   $32,948  \n",
       "9           Mercedes-Benz Manhattan Inc.    3.4    (472 reviews)   $42,900  \n",
       "10               Mercedes-Benz Of Tacoma    4.1  (3,424 reviews)   $29,999  \n",
       "11                Benzel-Busch Motor Car    4.5  (5,402 reviews)   $96,796  \n",
       "12            Mercedes-Benz of Calabasas    4.8    (982 reviews)   $54,996  \n",
       "13      Mercedes-Benz of South Charlotte    4.8  (1,367 reviews)  $187,495  \n",
       "14      Mercedes-Benz of Hoffman Estates    4.6  (1,200 reviews)   $32,499  \n",
       "15                Mercedes-Benz of Plano    4.7  (1,833 reviews)   $80,922  \n",
       "16  Smith Motor Sales of Haverhill, Inc.    4.9  (1,860 reviews)   $33,955  \n",
       "17         Mercedes-Benz of Owings Mills    4.9  (2,315 reviews)   $39,990  \n",
       "18  Smith Motor Sales of Haverhill, Inc.    4.9  (1,860 reviews)   $66,300  \n",
       "19        Mercedes-Benz of North Olmsted    4.7  (1,534 reviews)   $38,987  "
      ]
     },
     "execution_count": 27,
     "metadata": {},
     "output_type": "execute_result"
    }
   ],
   "source": [
    "car_dealer"
   ]
  },
  {
   "cell_type": "markdown",
   "id": "0510fd11",
   "metadata": {},
   "source": [
    "## Data Cleaning"
   ]
  },
  {
   "cell_type": "code",
   "execution_count": 30,
   "id": "10f40d18",
   "metadata": {},
   "outputs": [],
   "source": [
    "# Remove parentheses and whitespace from the 'Review Count' column in the 'car_dealer' DataFrame using a lambda function.\n",
    "car_dealer['Review Count'] = car_dealer['Review Count'].apply(lambda x: x.strip('reviews)').strip('('))\n"
   ]
  },
  {
   "cell_type": "code",
   "execution_count": 29,
   "id": "430a8d68",
   "metadata": {},
   "outputs": [
    {
     "data": {
      "text/html": [
       "<div>\n",
       "<style scoped>\n",
       "    .dataframe tbody tr th:only-of-type {\n",
       "        vertical-align: middle;\n",
       "    }\n",
       "\n",
       "    .dataframe tbody tr th {\n",
       "        vertical-align: top;\n",
       "    }\n",
       "\n",
       "    .dataframe thead th {\n",
       "        text-align: right;\n",
       "    }\n",
       "</style>\n",
       "<table border=\"1\" class=\"dataframe\">\n",
       "  <thead>\n",
       "    <tr style=\"text-align: right;\">\n",
       "      <th></th>\n",
       "      <th>Name</th>\n",
       "      <th>Mileage</th>\n",
       "      <th>Dealer Name</th>\n",
       "      <th>Rating</th>\n",
       "      <th>Review Count</th>\n",
       "      <th>Price</th>\n",
       "    </tr>\n",
       "  </thead>\n",
       "  <tbody>\n",
       "    <tr>\n",
       "      <th>0</th>\n",
       "      <td>2020 Mercedes-Benz AMG GT 63 4-Door</td>\n",
       "      <td>20,157 mi.</td>\n",
       "      <td>Mercedes-Benz of Atlantic City</td>\n",
       "      <td>4.6</td>\n",
       "      <td>1,102</td>\n",
       "      <td>$109,853</td>\n",
       "    </tr>\n",
       "    <tr>\n",
       "      <th>1</th>\n",
       "      <td>2023 Mercedes-Benz E-Class E 350 4MATIC</td>\n",
       "      <td>2,971 mi.</td>\n",
       "      <td>Mercedes-Benz of Owings Mills</td>\n",
       "      <td>4.9</td>\n",
       "      <td>2,315</td>\n",
       "      <td>$59,990</td>\n",
       "    </tr>\n",
       "    <tr>\n",
       "      <th>2</th>\n",
       "      <td>2022 Mercedes-Benz E-Class E 350</td>\n",
       "      <td>6,473 mi.</td>\n",
       "      <td>Mercedes-Benz of Marin</td>\n",
       "      <td>n/a</td>\n",
       "      <td>0</td>\n",
       "      <td>$48,995</td>\n",
       "    </tr>\n",
       "    <tr>\n",
       "      <th>3</th>\n",
       "      <td>2022 Mercedes-Benz AMG GLE 53 Base</td>\n",
       "      <td>15,015 mi.</td>\n",
       "      <td>Mercedes-Benz of Atlanta Northeast</td>\n",
       "      <td>4.7</td>\n",
       "      <td>2,091</td>\n",
       "      <td>$88,884</td>\n",
       "    </tr>\n",
       "    <tr>\n",
       "      <th>4</th>\n",
       "      <td>2023 Mercedes-Benz GLE 350 Base 4MATIC</td>\n",
       "      <td>3,996 mi.</td>\n",
       "      <td>Mercedes-Benz of State College</td>\n",
       "      <td>n/a</td>\n",
       "      <td>2</td>\n",
       "      <td>$61,991</td>\n",
       "    </tr>\n",
       "    <tr>\n",
       "      <th>5</th>\n",
       "      <td>2020 Mercedes-Benz A-Class A 220 4MATIC</td>\n",
       "      <td>15,603 mi.</td>\n",
       "      <td>Silver Star Motors</td>\n",
       "      <td>4.5</td>\n",
       "      <td>826</td>\n",
       "      <td>$28,899</td>\n",
       "    </tr>\n",
       "    <tr>\n",
       "      <th>6</th>\n",
       "      <td>2020 Mercedes-Benz C-Class C 300 4MATIC</td>\n",
       "      <td>48,570 mi.</td>\n",
       "      <td>Mercedes-Benz of Elmbrook</td>\n",
       "      <td>4.5</td>\n",
       "      <td>199</td>\n",
       "      <td>$29,995</td>\n",
       "    </tr>\n",
       "    <tr>\n",
       "      <th>7</th>\n",
       "      <td>2020 Mercedes-Benz E-Class E 350 4MATIC</td>\n",
       "      <td>17,914 mi.</td>\n",
       "      <td>Silver Star Motors</td>\n",
       "      <td>4.5</td>\n",
       "      <td>826</td>\n",
       "      <td>$38,148</td>\n",
       "    </tr>\n",
       "    <tr>\n",
       "      <th>8</th>\n",
       "      <td>2019 Mercedes-Benz E-Class E 300 4MATIC</td>\n",
       "      <td>35,561 mi.</td>\n",
       "      <td>Feldmann Imports</td>\n",
       "      <td>4.4</td>\n",
       "      <td>645</td>\n",
       "      <td>$32,948</td>\n",
       "    </tr>\n",
       "    <tr>\n",
       "      <th>9</th>\n",
       "      <td>2020 Mercedes-Benz AMG A 35 Base</td>\n",
       "      <td>16,257 mi.</td>\n",
       "      <td>Mercedes-Benz Manhattan Inc.</td>\n",
       "      <td>3.4</td>\n",
       "      <td>472</td>\n",
       "      <td>$42,900</td>\n",
       "    </tr>\n",
       "    <tr>\n",
       "      <th>10</th>\n",
       "      <td>2020 Mercedes-Benz A-Class A 220 4MATIC</td>\n",
       "      <td>28,246 mi.</td>\n",
       "      <td>Mercedes-Benz Of Tacoma</td>\n",
       "      <td>4.1</td>\n",
       "      <td>3,424</td>\n",
       "      <td>$29,999</td>\n",
       "    </tr>\n",
       "    <tr>\n",
       "      <th>11</th>\n",
       "      <td>2019 Mercedes-Benz AMG S 63 Base 4MATIC</td>\n",
       "      <td>18,964 mi.</td>\n",
       "      <td>Benzel-Busch Motor Car</td>\n",
       "      <td>4.5</td>\n",
       "      <td>5,402</td>\n",
       "      <td>$96,796</td>\n",
       "    </tr>\n",
       "    <tr>\n",
       "      <th>12</th>\n",
       "      <td>2020 Mercedes-Benz S-Class S 450</td>\n",
       "      <td>27,438 mi.</td>\n",
       "      <td>Mercedes-Benz of Calabasas</td>\n",
       "      <td>4.8</td>\n",
       "      <td>982</td>\n",
       "      <td>$54,996</td>\n",
       "    </tr>\n",
       "    <tr>\n",
       "      <th>13</th>\n",
       "      <td>2023 Mercedes-Benz Maybach GLS 600 4MATIC</td>\n",
       "      <td>1,343 mi.</td>\n",
       "      <td>Mercedes-Benz of South Charlotte</td>\n",
       "      <td>4.8</td>\n",
       "      <td>1,367</td>\n",
       "      <td>$187,495</td>\n",
       "    </tr>\n",
       "    <tr>\n",
       "      <th>14</th>\n",
       "      <td>2020 Mercedes-Benz C-Class C 300 4MATIC</td>\n",
       "      <td>29,897 mi.</td>\n",
       "      <td>Mercedes-Benz of Hoffman Estates</td>\n",
       "      <td>4.6</td>\n",
       "      <td>1,200</td>\n",
       "      <td>$32,499</td>\n",
       "    </tr>\n",
       "    <tr>\n",
       "      <th>15</th>\n",
       "      <td>2023 Mercedes-Benz AMG GLE 53 Base</td>\n",
       "      <td>7,160 mi.</td>\n",
       "      <td>Mercedes-Benz of Plano</td>\n",
       "      <td>4.7</td>\n",
       "      <td>1,833</td>\n",
       "      <td>$80,922</td>\n",
       "    </tr>\n",
       "    <tr>\n",
       "      <th>16</th>\n",
       "      <td>2020 Mercedes-Benz GLA 250 Base 4MATIC</td>\n",
       "      <td>16,776 mi.</td>\n",
       "      <td>Smith Motor Sales of Haverhill, Inc.</td>\n",
       "      <td>4.9</td>\n",
       "      <td>1,860</td>\n",
       "      <td>$33,955</td>\n",
       "    </tr>\n",
       "    <tr>\n",
       "      <th>17</th>\n",
       "      <td>2020 Mercedes-Benz E-Class E 350 4MATIC</td>\n",
       "      <td>31,640 mi.</td>\n",
       "      <td>Mercedes-Benz of Owings Mills</td>\n",
       "      <td>4.9</td>\n",
       "      <td>2,315</td>\n",
       "      <td>$39,990</td>\n",
       "    </tr>\n",
       "    <tr>\n",
       "      <th>18</th>\n",
       "      <td>2021 Mercedes-Benz GLE 450 4MATIC</td>\n",
       "      <td>15,929 mi.</td>\n",
       "      <td>Smith Motor Sales of Haverhill, Inc.</td>\n",
       "      <td>4.9</td>\n",
       "      <td>1,860</td>\n",
       "      <td>$66,300</td>\n",
       "    </tr>\n",
       "    <tr>\n",
       "      <th>19</th>\n",
       "      <td>2020 Mercedes-Benz E-Class E 350 4MATIC</td>\n",
       "      <td>31,560 mi.</td>\n",
       "      <td>Mercedes-Benz of North Olmsted</td>\n",
       "      <td>4.7</td>\n",
       "      <td>1,534</td>\n",
       "      <td>$38,987</td>\n",
       "    </tr>\n",
       "  </tbody>\n",
       "</table>\n",
       "</div>"
      ],
      "text/plain": [
       "                                         Name     Mileage  \\\n",
       "0         2020 Mercedes-Benz AMG GT 63 4-Door  20,157 mi.   \n",
       "1     2023 Mercedes-Benz E-Class E 350 4MATIC   2,971 mi.   \n",
       "2            2022 Mercedes-Benz E-Class E 350   6,473 mi.   \n",
       "3          2022 Mercedes-Benz AMG GLE 53 Base  15,015 mi.   \n",
       "4      2023 Mercedes-Benz GLE 350 Base 4MATIC   3,996 mi.   \n",
       "5     2020 Mercedes-Benz A-Class A 220 4MATIC  15,603 mi.   \n",
       "6     2020 Mercedes-Benz C-Class C 300 4MATIC  48,570 mi.   \n",
       "7     2020 Mercedes-Benz E-Class E 350 4MATIC  17,914 mi.   \n",
       "8     2019 Mercedes-Benz E-Class E 300 4MATIC  35,561 mi.   \n",
       "9            2020 Mercedes-Benz AMG A 35 Base  16,257 mi.   \n",
       "10    2020 Mercedes-Benz A-Class A 220 4MATIC  28,246 mi.   \n",
       "11    2019 Mercedes-Benz AMG S 63 Base 4MATIC  18,964 mi.   \n",
       "12           2020 Mercedes-Benz S-Class S 450  27,438 mi.   \n",
       "13  2023 Mercedes-Benz Maybach GLS 600 4MATIC   1,343 mi.   \n",
       "14    2020 Mercedes-Benz C-Class C 300 4MATIC  29,897 mi.   \n",
       "15         2023 Mercedes-Benz AMG GLE 53 Base   7,160 mi.   \n",
       "16     2020 Mercedes-Benz GLA 250 Base 4MATIC  16,776 mi.   \n",
       "17    2020 Mercedes-Benz E-Class E 350 4MATIC  31,640 mi.   \n",
       "18          2021 Mercedes-Benz GLE 450 4MATIC  15,929 mi.   \n",
       "19    2020 Mercedes-Benz E-Class E 350 4MATIC  31,560 mi.   \n",
       "\n",
       "                             Dealer Name Rating Review Count     Price  \n",
       "0         Mercedes-Benz of Atlantic City    4.6       1,102   $109,853  \n",
       "1          Mercedes-Benz of Owings Mills    4.9       2,315    $59,990  \n",
       "2                 Mercedes-Benz of Marin    n/a           0    $48,995  \n",
       "3     Mercedes-Benz of Atlanta Northeast    4.7       2,091    $88,884  \n",
       "4         Mercedes-Benz of State College    n/a           2    $61,991  \n",
       "5                     Silver Star Motors    4.5         826    $28,899  \n",
       "6              Mercedes-Benz of Elmbrook    4.5         199    $29,995  \n",
       "7                     Silver Star Motors    4.5         826    $38,148  \n",
       "8                       Feldmann Imports    4.4         645    $32,948  \n",
       "9           Mercedes-Benz Manhattan Inc.    3.4         472    $42,900  \n",
       "10               Mercedes-Benz Of Tacoma    4.1       3,424    $29,999  \n",
       "11                Benzel-Busch Motor Car    4.5       5,402    $96,796  \n",
       "12            Mercedes-Benz of Calabasas    4.8         982    $54,996  \n",
       "13      Mercedes-Benz of South Charlotte    4.8       1,367   $187,495  \n",
       "14      Mercedes-Benz of Hoffman Estates    4.6       1,200    $32,499  \n",
       "15                Mercedes-Benz of Plano    4.7       1,833    $80,922  \n",
       "16  Smith Motor Sales of Haverhill, Inc.    4.9       1,860    $33,955  \n",
       "17         Mercedes-Benz of Owings Mills    4.9       2,315    $39,990  \n",
       "18  Smith Motor Sales of Haverhill, Inc.    4.9       1,860    $66,300  \n",
       "19        Mercedes-Benz of North Olmsted    4.7       1,534    $38,987  "
      ]
     },
     "execution_count": 29,
     "metadata": {},
     "output_type": "execute_result"
    }
   ],
   "source": [
    "# dataframe updated\n",
    "car_dealer"
   ]
  },
  {
   "cell_type": "code",
   "execution_count": null,
   "id": "52f74231",
   "metadata": {},
   "outputs": [],
   "source": []
  }
 ],
 "metadata": {
  "kernelspec": {
   "display_name": "Python 3 (ipykernel)",
   "language": "python",
   "name": "python3"
  },
  "language_info": {
   "codemirror_mode": {
    "name": "ipython",
    "version": 3
   },
   "file_extension": ".py",
   "mimetype": "text/x-python",
   "name": "python",
   "nbconvert_exporter": "python",
   "pygments_lexer": "ipython3",
   "version": "3.10.9"
  }
 },
 "nbformat": 4,
 "nbformat_minor": 5
}
